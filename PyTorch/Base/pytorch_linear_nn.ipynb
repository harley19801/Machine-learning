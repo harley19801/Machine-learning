{
  "cells": [
    {
      "cell_type": "markdown",
      "metadata": {
        "id": "view-in-github",
        "colab_type": "text"
      },
      "source": [
        "<a href=\"https://colab.research.google.com/github/harley19801/Machine-learning/blob/main/PyTorch/Base/pytorch_linear_nn.ipynb\" target=\"_parent\"><img src=\"https://colab.research.google.com/assets/colab-badge.svg\" alt=\"Open In Colab\"/></a>"
      ]
    },
    {
      "cell_type": "code",
      "execution_count": 1,
      "id": "f055cc7f",
      "metadata": {
        "id": "f055cc7f"
      },
      "outputs": [],
      "source": [
        "import torch\n",
        "import torch.nn as nn\n",
        "import torch.optim as optim\n",
        "import torch.nn.functional as F\n",
        "from torch.utils.data import DataLoader\n",
        "import torchvision.datasets as datasets\n",
        "import torchvision.transforms as transforms\n",
        "import os\n",
        "from tqdm import tqdm"
      ]
    },
    {
      "cell_type": "code",
      "execution_count": 2,
      "id": "ba1c3f8a",
      "metadata": {
        "colab": {
          "base_uri": "https://localhost:8080/"
        },
        "id": "ba1c3f8a",
        "outputId": "c5f2358f-8c9c-40c4-ebfa-28309a09ae5d"
      },
      "outputs": [
        {
          "output_type": "execute_result",
          "data": {
            "text/plain": [
              "device(type='cpu')"
            ]
          },
          "metadata": {},
          "execution_count": 2
        }
      ],
      "source": [
        "device = torch.device('cuda' if torch.cuda.is_available() else 'cpu')\n",
        "device"
      ]
    },
    {
      "cell_type": "code",
      "execution_count": 3,
      "id": "b9c3f85a",
      "metadata": {
        "id": "b9c3f85a"
      },
      "outputs": [],
      "source": [
        "path_to_img = os.getcwd() + '/../../../../images'"
      ]
    },
    {
      "cell_type": "code",
      "execution_count": 4,
      "id": "66741a5e",
      "metadata": {
        "id": "66741a5e"
      },
      "outputs": [],
      "source": [
        "input_size = 784\n",
        "num_classes = 10\n",
        "batch_size = 128"
      ]
    },
    {
      "cell_type": "code",
      "execution_count": 5,
      "id": "6713d724",
      "metadata": {
        "colab": {
          "base_uri": "https://localhost:8080/"
        },
        "id": "6713d724",
        "outputId": "4fb8651c-2be5-4ed4-83c8-bf92fde2a174"
      },
      "outputs": [
        {
          "output_type": "stream",
          "name": "stdout",
          "text": [
            "Downloading http://yann.lecun.com/exdb/mnist/train-images-idx3-ubyte.gz\n",
            "Failed to download (trying next):\n",
            "HTTP Error 403: Forbidden\n",
            "\n",
            "Downloading https://ossci-datasets.s3.amazonaws.com/mnist/train-images-idx3-ubyte.gz\n",
            "Downloading https://ossci-datasets.s3.amazonaws.com/mnist/train-images-idx3-ubyte.gz to /content/../../../../images/MNIST/raw/train-images-idx3-ubyte.gz\n"
          ]
        },
        {
          "output_type": "stream",
          "name": "stderr",
          "text": [
            "100%|██████████| 9912422/9912422 [00:01<00:00, 6203591.18it/s]\n"
          ]
        },
        {
          "output_type": "stream",
          "name": "stdout",
          "text": [
            "Extracting /content/../../../../images/MNIST/raw/train-images-idx3-ubyte.gz to /content/../../../../images/MNIST/raw\n",
            "\n",
            "Downloading http://yann.lecun.com/exdb/mnist/train-labels-idx1-ubyte.gz\n",
            "Failed to download (trying next):\n",
            "HTTP Error 403: Forbidden\n",
            "\n",
            "Downloading https://ossci-datasets.s3.amazonaws.com/mnist/train-labels-idx1-ubyte.gz\n",
            "Downloading https://ossci-datasets.s3.amazonaws.com/mnist/train-labels-idx1-ubyte.gz to /content/../../../../images/MNIST/raw/train-labels-idx1-ubyte.gz\n"
          ]
        },
        {
          "output_type": "stream",
          "name": "stderr",
          "text": [
            "100%|██████████| 28881/28881 [00:00<00:00, 454474.73it/s]\n"
          ]
        },
        {
          "output_type": "stream",
          "name": "stdout",
          "text": [
            "Extracting /content/../../../../images/MNIST/raw/train-labels-idx1-ubyte.gz to /content/../../../../images/MNIST/raw\n",
            "\n",
            "Downloading http://yann.lecun.com/exdb/mnist/t10k-images-idx3-ubyte.gz\n",
            "Failed to download (trying next):\n",
            "HTTP Error 403: Forbidden\n",
            "\n",
            "Downloading https://ossci-datasets.s3.amazonaws.com/mnist/t10k-images-idx3-ubyte.gz\n",
            "Downloading https://ossci-datasets.s3.amazonaws.com/mnist/t10k-images-idx3-ubyte.gz to /content/../../../../images/MNIST/raw/t10k-images-idx3-ubyte.gz\n"
          ]
        },
        {
          "output_type": "stream",
          "name": "stderr",
          "text": [
            "100%|██████████| 1648877/1648877 [00:00<00:00, 4114182.49it/s]\n"
          ]
        },
        {
          "output_type": "stream",
          "name": "stdout",
          "text": [
            "Extracting /content/../../../../images/MNIST/raw/t10k-images-idx3-ubyte.gz to /content/../../../../images/MNIST/raw\n",
            "\n",
            "Downloading http://yann.lecun.com/exdb/mnist/t10k-labels-idx1-ubyte.gz\n",
            "Failed to download (trying next):\n",
            "HTTP Error 403: Forbidden\n",
            "\n",
            "Downloading https://ossci-datasets.s3.amazonaws.com/mnist/t10k-labels-idx1-ubyte.gz\n",
            "Downloading https://ossci-datasets.s3.amazonaws.com/mnist/t10k-labels-idx1-ubyte.gz to /content/../../../../images/MNIST/raw/t10k-labels-idx1-ubyte.gz\n"
          ]
        },
        {
          "output_type": "stream",
          "name": "stderr",
          "text": [
            "100%|██████████| 4542/4542 [00:00<00:00, 3905397.45it/s]"
          ]
        },
        {
          "output_type": "stream",
          "name": "stdout",
          "text": [
            "Extracting /content/../../../../images/MNIST/raw/t10k-labels-idx1-ubyte.gz to /content/../../../../images/MNIST/raw\n",
            "\n"
          ]
        },
        {
          "output_type": "stream",
          "name": "stderr",
          "text": [
            "\n"
          ]
        }
      ],
      "source": [
        "train_dataset = datasets.MNIST(root=path_to_img, train=True, download=True)\n",
        "test_dataset = datasets.MNIST(root=path_to_img, train=False, download=True)"
      ]
    },
    {
      "cell_type": "markdown",
      "id": "5bd8e70e",
      "metadata": {
        "id": "5bd8e70e"
      },
      "source": [
        "Before computing mean and std  \n",
        "we need to change pixels range from 1..255 to 0..1  \n",
        "\n",
        "That's because during transforms first step should be `ToTensor`  \n",
        "which transform data to tensor and change the range of data to 0..1  \n",
        "So when we apply `Normalize` in next step we have another range of data  \n",
        "and can't use mean from data with range 1..255"
      ]
    },
    {
      "cell_type": "code",
      "execution_count": 6,
      "id": "9abf1334",
      "metadata": {
        "scrolled": true,
        "colab": {
          "base_uri": "https://localhost:8080/"
        },
        "id": "9abf1334",
        "outputId": "633baff3-c421-4b95-b7a5-f7d7d1457c3d"
      },
      "outputs": [
        {
          "output_type": "stream",
          "name": "stdout",
          "text": [
            "mean = 0.1307\n",
            "std  = 0.3081\n"
          ]
        }
      ],
      "source": [
        "mean = torch.mean(train_dataset.data.float()/255)\n",
        "std = torch.std(train_dataset.data.float()/255)\n",
        "\n",
        "print(f'mean = {mean:.4f}')\n",
        "print(f'std  = {std:.4f}')"
      ]
    },
    {
      "cell_type": "code",
      "execution_count": 7,
      "id": "7bd13424",
      "metadata": {
        "id": "7bd13424"
      },
      "outputs": [],
      "source": [
        "mnist_transforms = transforms.Compose(\n",
        "    [\n",
        "        transforms.ToTensor(),\n",
        "        transforms.Normalize(mean, std),\n",
        "        transforms.Lambda(lambda x: x.view(-1)),\n",
        "    ]\n",
        ")"
      ]
    },
    {
      "cell_type": "code",
      "execution_count": 8,
      "id": "bfe2784a",
      "metadata": {
        "id": "bfe2784a"
      },
      "outputs": [],
      "source": [
        "train_dataset.transform = mnist_transforms\n",
        "test_dataset.transform = mnist_transforms"
      ]
    },
    {
      "cell_type": "code",
      "execution_count": 9,
      "id": "cce3479b",
      "metadata": {
        "id": "cce3479b"
      },
      "outputs": [],
      "source": [
        "train_loader = DataLoader(dataset=train_dataset, batch_size=batch_size, shuffle=True)\n",
        "test_loader = DataLoader(dataset=test_dataset, batch_size=batch_size, shuffle=True)"
      ]
    },
    {
      "cell_type": "markdown",
      "id": "3c200a8b",
      "metadata": {
        "id": "3c200a8b"
      },
      "source": [
        "Transforms applying only when you accessing data form DataLoader.  \n",
        "Data in datset is non changed.  \n",
        "We can see it if we run the same code for computing mean and std of the dataset"
      ]
    },
    {
      "cell_type": "code",
      "execution_count": 10,
      "id": "5157d7ad",
      "metadata": {
        "colab": {
          "base_uri": "https://localhost:8080/"
        },
        "id": "5157d7ad",
        "outputId": "ffa7e2d3-fd19-4c77-edcf-35cf2e72b35c"
      },
      "outputs": [
        {
          "output_type": "stream",
          "name": "stdout",
          "text": [
            "mean = 0.1307\n",
            "std  = 0.3081\n"
          ]
        }
      ],
      "source": [
        "mean = torch.mean(train_dataset.data.float()/255)\n",
        "std = torch.std(train_dataset.data.float()/255)\n",
        "\n",
        "print(f'mean = {mean:.4f}')\n",
        "print(f'std  = {std:.4f}')"
      ]
    },
    {
      "cell_type": "markdown",
      "id": "510d17fa",
      "metadata": {
        "id": "510d17fa"
      },
      "source": [
        "Data in batches is transformed and has normalized mean and std"
      ]
    },
    {
      "cell_type": "code",
      "execution_count": 11,
      "id": "00bc947f",
      "metadata": {
        "colab": {
          "base_uri": "https://localhost:8080/"
        },
        "id": "00bc947f",
        "outputId": "1a795a25-8462-421f-d44a-08bb8f64e3af"
      },
      "outputs": [
        {
          "output_type": "stream",
          "name": "stdout",
          "text": [
            "mean = 0.0274\n",
            "std  = 1.0312\n"
          ]
        }
      ],
      "source": [
        "# Get one batch\n",
        "data_iter = iter(train_loader)\n",
        "batch = next(data_iter)\n",
        "data, targets = batch\n",
        "print(f'mean = {data.mean():.4f}')\n",
        "print(f'std  = {data.std():.4f}')"
      ]
    },
    {
      "cell_type": "code",
      "execution_count": 12,
      "id": "a88f7d3b",
      "metadata": {
        "id": "a88f7d3b"
      },
      "outputs": [],
      "source": [
        "def check_accuracy(loader, model):\n",
        "    num_correct = 0\n",
        "    num_samples = 0\n",
        "    model.eval()\n",
        "\n",
        "    with torch.no_grad():\n",
        "        for data, targets in loader:\n",
        "            #move to cuda\n",
        "            data = data.to(device)\n",
        "            targets = targets.to(device)\n",
        "\n",
        "            outputs = model(data)\n",
        "            _, predictions = outputs.max(1)\n",
        "            num_correct += (predictions == targets).sum()\n",
        "            num_samples += predictions.size(0)\n",
        "\n",
        "    return num_correct / num_samples"
      ]
    },
    {
      "cell_type": "code",
      "execution_count": 13,
      "id": "524f13e6",
      "metadata": {
        "id": "524f13e6"
      },
      "outputs": [],
      "source": [
        "class NN(nn.Module):\n",
        "    def __init__(self, input_size, num_classes):\n",
        "        super(NN, self).__init__()\n",
        "        self.fc1 = nn.Linear(input_size, 50)\n",
        "        self.fc2 = nn.Linear(50, num_classes)\n",
        "\n",
        "    def forward(self, x):\n",
        "        x = F.relu(self.fc1(x))\n",
        "        x = self.fc2(x)\n",
        "        return x"
      ]
    },
    {
      "cell_type": "code",
      "execution_count": 14,
      "id": "9e73a15e",
      "metadata": {
        "id": "9e73a15e"
      },
      "outputs": [],
      "source": [
        "learning_rate = 1e-3\n",
        "num_epochs = 3\n",
        "\n",
        "model = NN(input_size=input_size, num_classes=num_classes).to(device)\n",
        "\n",
        "criterion = nn.CrossEntropyLoss()\n",
        "optimizer = optim.Adam(model.parameters(), lr=learning_rate)"
      ]
    },
    {
      "cell_type": "code",
      "execution_count": 15,
      "id": "a0fdc562",
      "metadata": {
        "colab": {
          "base_uri": "https://localhost:8080/"
        },
        "id": "a0fdc562",
        "outputId": "eb0db3ac-7c49-49b5-c345-b9a11cfc0e5b"
      },
      "outputs": [
        {
          "output_type": "stream",
          "name": "stderr",
          "text": [
            "epoch: 0: 100%|███████████████████████████████| 469/469 [00:16<00:00, 27.75it/s]\n"
          ]
        },
        {
          "output_type": "stream",
          "name": "stdout",
          "text": [
            "t_loss = 0.3737, v_loss: 0.2166, t_acc = 0.8933, v_acc = 0.9355\n"
          ]
        },
        {
          "output_type": "stream",
          "name": "stderr",
          "text": [
            "epoch: 1: 100%|███████████████████████████████| 469/469 [00:16<00:00, 28.16it/s]\n"
          ]
        },
        {
          "output_type": "stream",
          "name": "stdout",
          "text": [
            "t_loss = 0.1929, v_loss: 0.1651, t_acc = 0.9440, v_acc = 0.9513\n"
          ]
        },
        {
          "output_type": "stream",
          "name": "stderr",
          "text": [
            "epoch: 2: 100%|███████████████████████████████| 469/469 [00:16<00:00, 27.65it/s]\n"
          ]
        },
        {
          "output_type": "stream",
          "name": "stdout",
          "text": [
            "t_loss = 0.1460, v_loss: 0.1353, t_acc = 0.9574, v_acc = 0.9584\n",
            "\n",
            "fin_train_acc: 0.9632, fin_test_acc: 0.9584\n"
          ]
        }
      ],
      "source": [
        "for epoch in range(num_epochs):\n",
        "    model.train()\n",
        "    running_train_loss = 0.0\n",
        "    correct_train = 0\n",
        "    total_train = 0\n",
        "\n",
        "    for batch_idx, (data, targets) in enumerate(tqdm(train_loader, ncols=80, desc=f'epoch: {epoch}')):\n",
        "        #move to cuda\n",
        "        data = data.to(device)\n",
        "        targets = targets.to(device)\n",
        "\n",
        "        #make predictions\n",
        "        outputs = model(data)\n",
        "\n",
        "        #calculating loss\n",
        "        loss = criterion(outputs, targets)\n",
        "\n",
        "        #calculate gradient\n",
        "        optimizer.zero_grad()\n",
        "        loss.backward()\n",
        "\n",
        "        #change parameters with gradient * learning_rate\n",
        "        optimizer.step()\n",
        "\n",
        "        #save loss\n",
        "        running_train_loss += loss\n",
        "\n",
        "        #calculate and save accuracy\n",
        "        _, predicted = outputs.max(1)\n",
        "        total_train += predicted.size(0)\n",
        "        correct_train += (predicted == targets).sum()\n",
        "\n",
        "    #accumulated loss / number of batches\n",
        "    train_loss = running_train_loss / len(train_loader)\n",
        "\n",
        "    #number of correct predictions / number of images\n",
        "    train_acc = correct_train / total_train\n",
        "\n",
        "    # Validation phase\n",
        "    model.eval()\n",
        "    running_val_loss = 0.0\n",
        "    correct_val = 0\n",
        "    total_val = 0\n",
        "    with torch.no_grad():\n",
        "        for data, targets in test_loader:\n",
        "            #move to cuda\n",
        "            data = data.to(device)\n",
        "            targets = targets.to(device)\n",
        "\n",
        "            #make predictions\n",
        "            outputs = model(data)\n",
        "\n",
        "            #calculating loss\n",
        "            loss = criterion(outputs, targets)\n",
        "\n",
        "            #save loss\n",
        "            running_val_loss += loss\n",
        "\n",
        "            #calculate and save accuracy\n",
        "            _, predicted = outputs.max(1)\n",
        "            total_val += predicted.size(0)\n",
        "            correct_val += (predicted == targets).sum()\n",
        "\n",
        "    #accumulated loss / number of batches\n",
        "    val_loss = running_val_loss / len(test_loader)\n",
        "\n",
        "    #number of correct predictions / number of images\n",
        "    val_acc = correct_val / total_val\n",
        "\n",
        "    print(f't_loss = {train_loss:.4f}, v_loss: {val_loss:.4f}, t_acc = {train_acc:.4f}, v_acc = {val_acc:.4f}')\n",
        "\n",
        "# checking final accuracy\n",
        "train_acc = check_accuracy(train_loader, model).item()\n",
        "test_acc = check_accuracy(test_loader, model).item()\n",
        "print(f'\\nfin_train_acc: {train_acc:.4f}, fin_test_acc: {test_acc:.4f}')"
      ]
    },
    {
      "cell_type": "markdown",
      "id": "f83413a0",
      "metadata": {
        "id": "f83413a0"
      },
      "source": [
        "```\n",
        " 5 epochs -lin 50                         - 96.09  \n",
        " 5 epochs -lin 100                        - 97.06  \n",
        " 5 epochs -lin 50 + lin50                 - 96.17  \n",
        " 5 epochs -lin 100 + lin100               - 97.10  \n",
        " 5 epochs -lin 100 + lin100 + lin100      - 97.41  \n",
        " 5 epochs -lin 150 + lin150 + lin150      - 97.60  \n",
        " 5 epochs -lin 250 + lin250 + lin250      - 97.81  \n",
        " 5 epochs -lin 250 + lin50 + lin250       - 97.60  \n",
        " 5 epochs -lin 250 + lin40 + lin250       - 97.34  \n",
        " 5 epochs -lin 250 + lin500 + lin250      - 97.38  \n",
        " 5 epochs -lin 784 + lin784 + lin784      - 97.62  \n",
        " 5 epochs -lin 1784 + lin1784 + lin1784   - 98.14  \n",
        "25 epochs -lin 50                         - 97.23  \n",
        "```"
      ]
    }
  ],
  "metadata": {
    "kernelspec": {
      "display_name": "Python [conda env:fastai]",
      "language": "python",
      "name": "conda-env-fastai-py"
    },
    "language_info": {
      "codemirror_mode": {
        "name": "ipython",
        "version": 3
      },
      "file_extension": ".py",
      "mimetype": "text/x-python",
      "name": "python",
      "nbconvert_exporter": "python",
      "pygments_lexer": "ipython3",
      "version": "3.12.3"
    },
    "colab": {
      "provenance": [],
      "include_colab_link": true
    }
  },
  "nbformat": 4,
  "nbformat_minor": 5
}